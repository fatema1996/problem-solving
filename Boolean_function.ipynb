#You can execute code based on the Boolean answer of a function:

def myFunction() :
  return True

if myFunction():
  print("YES!")
else:
  print("NO!")
